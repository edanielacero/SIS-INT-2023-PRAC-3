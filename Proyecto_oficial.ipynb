{
  "nbformat": 4,
  "nbformat_minor": 0,
  "metadata": {
    "colab": {
      "provenance": [],
      "authorship_tag": "ABX9TyMoVZRPKJLzWZvECObRfHtX",
      "include_colab_link": true
    },
    "kernelspec": {
      "name": "python3",
      "display_name": "Python 3"
    },
    "language_info": {
      "name": "python"
    }
  },
  "cells": [
    {
      "cell_type": "markdown",
      "metadata": {
        "id": "view-in-github",
        "colab_type": "text"
      },
      "source": [
        "<a href=\"https://colab.research.google.com/github/edanielacero/SIS-INT-2023-PRAC-3/blob/main/Proyecto_oficial.ipynb\" target=\"_parent\"><img src=\"https://colab.research.google.com/assets/colab-badge.svg\" alt=\"Open In Colab\"/></a>"
      ]
    },
    {
      "cell_type": "markdown",
      "source": [
        "Min max"
      ],
      "metadata": {
        "id": "XwwUJ4mwtM82"
      }
    },
    {
      "cell_type": "code",
      "source": [
        "class Estado:\n",
        "    def __init__(self):\n",
        "        self.tablero = [['.' for _ in range(8)] for _ in range(8)]\n",
        "        self.tablero[3][3] = self.tablero[4][4] = 'O'  # Fichas blancas\n",
        "        self.tablero[3][4] = self.tablero[4][3] = 'X'  # Fichas negras\n",
        "\n",
        "    def mostrar_tablero(self):\n",
        "        print('  A B C D E F G H')\n",
        "\n",
        "        for i, fila in enumerate(self.tablero):\n",
        "            print(f'{i+1} ', end='')\n",
        "\n",
        "            for casilla in fila:\n",
        "                print(casilla, end=' ')\n",
        "            print()\n",
        "        print()\n",
        "\n",
        "    def letra_a_numero_columna(self, letra):\n",
        "        return ord(letra) - 65  # Convierte la letra a un número de columna (0-7)\n",
        "\n",
        "    def realizar_movimiento(self, fila, columna_letra, jugador):\n",
        "        fila = fila - 1\n",
        "        columna = self.letra_a_numero_columna(columna_letra)\n",
        "        self.tablero[fila][columna] = jugador\n",
        "        adversario = 'O' if jugador == 'X' else 'X'\n",
        "        direcciones = [(0, 1), (1, 0), (0, -1), (-1, 0), (1, 1), (-1, 1), (1, -1), (-1, -1)]\n",
        "\n",
        "        for dir_f, dir_c in direcciones:\n",
        "            i, j = fila + dir_f, columna + dir_c\n",
        "            while self.esta_dentro_del_tablero(i, j) and self.tablero[i][j] == adversario:\n",
        "                i, j = i + dir_f, j + dir_c\n",
        "\n",
        "            if self.esta_dentro_del_tablero(i, j) and self.tablero[i][j] == jugador:\n",
        "                i, j = fila + dir_f, columna + dir_c\n",
        "                while (i, j) != (i, j):\n",
        "                    self.tablero[i][j] = jugador\n",
        "                    i, j = i + dir_f, j + dir_c\n",
        "\n",
        "    def obtener_movimientos_validos(self, jugador):\n",
        "        movimientos_validos = []\n",
        "\n",
        "        for i in range(8):\n",
        "            for j in range(8):\n",
        "                if self.tablero[i][j] == '.':\n",
        "                    if self.es_movimiento_valido(i, j, jugador):\n",
        "                        fila_numero = i + 1  # Sumamos 1 para tener el número de fila (1-8)\n",
        "                        columna_letra = chr(j + 65)  # Convertimos el índice a letra (A-H)\n",
        "                        movimientos_validos.append((fila_numero, columna_letra))\n",
        "\n",
        "        return movimientos_validos\n",
        "\n",
        "    def es_movimiento_valido(self, fila, columna, jugador):\n",
        "        if self.tablero[fila][columna] != '.':\n",
        "            return False\n",
        "\n",
        "        adversario = 'O' if jugador == 'X' else 'X'\n",
        "        direcciones = [(0, 1), (1, 0), (0, -1), (-1, 0), (1, 1), (-1, 1), (1, -1), (-1, -1)]\n",
        "\n",
        "        for dir_f, dir_c in direcciones:\n",
        "            i, j = fila + dir_f, columna + dir_c\n",
        "            if self.esta_dentro_del_tablero(i, j) and self.tablero[i][j] == adversario:\n",
        "                i, j = i + dir_f, j + dir_c\n",
        "                while self.esta_dentro_del_tablero(i, j) and self.tablero[i][j] == adversario:\n",
        "                    i, j = i + dir_f, j + dir_c\n",
        "\n",
        "                if self.esta_dentro_del_tablero(i, j) and self.tablero[i][j] == jugador:\n",
        "                    return True\n",
        "\n",
        "        return False\n",
        "\n",
        "    def esta_dentro_del_tablero(self, fila, columna):\n",
        "        return 0 <= fila < 8 and 0 <= columna < 8\n",
        "\n",
        "    def es_juego_terminado(self):\n",
        "       return self.obtener_movimientos_validos('X') == [] or self.obtener_movimientos_validos('O') == [] or self.tablero_lleno()\n",
        "\n",
        "    def tablero_lleno(self):\n",
        "        return all(all(casilla != '.' for casilla in fila) for fila in self.tablero)\n",
        "\n",
        "    def obtener_ganador(self):\n",
        "        contador_X = sum(fila.count('X') for fila in self.tablero)\n",
        "        contador_O = sum(fila.count('O') for fila in self.tablero)\n",
        "\n",
        "        if contador_X > contador_O:\n",
        "            return 'X'\n",
        "        elif contador_O > contador_X:\n",
        "            return 'O'\n",
        "        else:\n",
        "            return 'Empate'"
      ],
      "metadata": {
        "id": "e-mDKldluZpy"
      },
      "execution_count": 32,
      "outputs": []
    },
    {
      "cell_type": "code",
      "source": [
        "est = Estado()\n",
        "est.mostrar_tablero()\n",
        "est.obtener_movimientos_validos('X')\n",
        "est.realizar_movimiento(3, 'D', 'X')\n",
        "est.mostrar_tablero()\n",
        "est.es_juego_terminado()"
      ],
      "metadata": {
        "colab": {
          "base_uri": "https://localhost:8080/"
        },
        "id": "9WkPQS8Av65Y",
        "outputId": "0fd6b4dc-139b-4f4b-caa8-36dc388d5970"
      },
      "execution_count": 33,
      "outputs": [
        {
          "output_type": "stream",
          "name": "stdout",
          "text": [
            "  A B C D E F G H\n",
            "1 . . . . . . . . \n",
            "2 . . . . . . . . \n",
            "3 . . . . . . . . \n",
            "4 . . . O X . . . \n",
            "5 . . . X O . . . \n",
            "6 . . . . . . . . \n",
            "7 . . . . . . . . \n",
            "8 . . . . . . . . \n",
            "\n",
            "  A B C D E F G H\n",
            "1 . . . . . . . . \n",
            "2 . . . . . . . . \n",
            "3 . . . X . . . . \n",
            "4 . . . O X . . . \n",
            "5 . . . X O . . . \n",
            "6 . . . . . . . . \n",
            "7 . . . . . . . . \n",
            "8 . . . . . . . . \n",
            "\n"
          ]
        },
        {
          "output_type": "execute_result",
          "data": {
            "text/plain": [
              "False"
            ]
          },
          "metadata": {},
          "execution_count": 33
        }
      ]
    },
    {
      "cell_type": "code",
      "source": [
        "def terminal_test(state):\n",
        "  state.es_juego_terminado()"
      ],
      "metadata": {
        "id": "gy6xCGkBuR4R"
      },
      "execution_count": 34,
      "outputs": []
    },
    {
      "cell_type": "code",
      "execution_count": null,
      "metadata": {
        "id": "KyL81YHCsARZ"
      },
      "outputs": [],
      "source": [
        "def max_value(state):\n",
        "    if terminal_test(state):\n",
        "        return utility(state)\n",
        "\n",
        "    v = float('-inf') # valor pequeño\n",
        "    for action in actions(state):\n",
        "        successor = result(state, action) # devuelve estado sucesor\n",
        "        eval_min = min_value(successor) # evaluar el estado\n",
        "        v = max(v, eval_min)\n",
        "\n",
        "    return v\n",
        "\n",
        "def min_value(state):\n",
        "    if terminal_test(state):\n",
        "        return utility(state)\n",
        "\n",
        "    v = float('inf') # valor grande\n",
        "    for action in actions(state):\n",
        "        successor = result(state, action) # devuelve estado sucesor\n",
        "        eval_max = max_value(successor) # evaluar el estado\n",
        "        v = min(v, eval_max)\n",
        "\n",
        "    return v\n",
        "\n",
        "def min_max(state, player):\n",
        "    if player == \"MAX\":\n",
        "        v = []\n",
        "        for action in actions(state):\n",
        "            successor = result(state, action)\n",
        "            v.append((min_value(successor), action))\n",
        "        return max(v, key=lambda x: x[0])[1]\n",
        "\n",
        "    elif player == \"MIN\":\n",
        "        v = []\n",
        "        for action in actions(state):\n",
        "            successor = result(state, action)\n",
        "            v.append((max_value(successor), action))\n",
        "        return min(v, key=lambda x: x[0])[1]\n"
      ]
    }
  ]
}