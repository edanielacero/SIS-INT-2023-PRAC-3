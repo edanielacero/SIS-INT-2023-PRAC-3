{
  "nbformat": 4,
  "nbformat_minor": 0,
  "metadata": {
    "colab": {
      "provenance": [],
      "authorship_tag": "ABX9TyNdmb2NWHM0AQNd4f5u8J9F",
      "include_colab_link": true
    },
    "kernelspec": {
      "name": "python3",
      "display_name": "Python 3"
    },
    "language_info": {
      "name": "python"
    }
  },
  "cells": [
    {
      "cell_type": "markdown",
      "metadata": {
        "id": "view-in-github",
        "colab_type": "text"
      },
      "source": [
        "<a href=\"https://colab.research.google.com/github/edanielacero/SIS-INT-2023-PRAC-3/blob/main/Proyecto_oficial.ipynb\" target=\"_parent\"><img src=\"https://colab.research.google.com/assets/colab-badge.svg\" alt=\"Open In Colab\"/></a>"
      ]
    },
    {
      "cell_type": "markdown",
      "source": [
        "Min max"
      ],
      "metadata": {
        "id": "XwwUJ4mwtM82"
      }
    },
    {
      "cell_type": "code",
      "execution_count": null,
      "metadata": {
        "id": "KyL81YHCsARZ"
      },
      "outputs": [],
      "source": [
        "def max_value(state):\n",
        "    if terminal_test(state):\n",
        "        return utility(state)\n",
        "\n",
        "    v = float('-inf') # valor pequeño\n",
        "    for action in actions(state):\n",
        "        successor = result(state, action) # devuelve estado sucesor\n",
        "        eval_min = min_value(successor) # evaluar el estado\n",
        "        v = max(v, eval_min)\n",
        "\n",
        "    return v\n",
        "\n",
        "def min_value(state):\n",
        "    if terminal_test(state):\n",
        "        return utility(state)\n",
        "\n",
        "    v = float('inf') # valor grande\n",
        "    for action in actions(state):\n",
        "        successor = result(state, action) # devuelve estado sucesor\n",
        "        eval_max = max_value(successor) # evaluar el estado\n",
        "        v = min(v, eval_max)\n",
        "\n",
        "    return v\n",
        "\n",
        "def min_max(state, player):\n",
        "    if player == \"MAX\":\n",
        "        v = []\n",
        "        for action in actions(state):\n",
        "            successor = result(state, action)\n",
        "            v.append((min_value(successor), action))\n",
        "        return max(v, key=lambda x: x[0])[1]\n",
        "\n",
        "    elif player == \"MIN\":\n",
        "        v = []\n",
        "        for action in actions(state):\n",
        "            successor = result(state, action)\n",
        "            v.append((max_value(successor), action))\n",
        "        return min(v, key=lambda x: x[0])[1]\n"
      ]
    }
  ]
}